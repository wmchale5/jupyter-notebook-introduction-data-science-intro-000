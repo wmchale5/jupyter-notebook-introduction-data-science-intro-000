{
  "nbformat": 4,
  "nbformat_minor": 0,
  "metadata": {
    "colab": {
      "name": "OMDB_analysis.ipynb",
      "version": "0.3.2",
      "provenance": [],
      "collapsed_sections": [],
      "toc_visible": true,
      "include_colab_link": true
    },
    "kernelspec": {
      "name": "python3",
      "display_name": "Python 3"
    }
  },
  "cells": [
    {
      "cell_type": "markdown",
      "metadata": {
        "id": "view-in-github",
        "colab_type": "text"
      },
      "source": [
        "<a href=\"https://colab.research.google.com/github/wmchale5/jupyter-notebook-introduction-data-science-intro-000/blob/master/OMDB_analysis.ipynb\" target=\"_parent\"><img src=\"https://colab.research.google.com/assets/colab-badge.svg\" alt=\"Open In Colab\"/></a>"
      ]
    },
    {
      "cell_type": "code",
      "metadata": {
        "id": "Rl7gvnVlx-w0",
        "colab_type": "code",
        "colab": {}
      },
      "source": [
        ""
      ],
      "execution_count": 0,
      "outputs": []
    },
    {
      "cell_type": "markdown",
      "metadata": {
        "id": "AtJf-8LwyEHc",
        "colab_type": "text"
      },
      "source": [
        "#OMDB Exploratory analysis\n"
      ]
    },
    {
      "cell_type": "code",
      "metadata": {
        "id": "VExctqS9wUp9",
        "colab_type": "code",
        "colab": {}
      },
      "source": [
        "\n"
      ],
      "execution_count": 0,
      "outputs": []
    },
    {
      "cell_type": "code",
      "metadata": {
        "id": "WV4sLBc9yiG5",
        "colab_type": "code",
        "outputId": "1218c172-69b8-4233-c9ba-4340a625f8e6",
        "colab": {
          "base_uri": "https://localhost:8080/",
          "height": 85
        }
      },
      "source": [
        "!ls ../movies_rated.csv\n"
      ],
      "execution_count": 0,
      "outputs": [
        {
          "output_type": "stream",
          "text": [
            "bin\t dev   lib32  movies_rated.csv\trun    sys\t\t   usr\n",
            "boot\t etc   lib64  opt\t\tsbin   tensorflow-2.0.0a0  var\n",
            "content  home  media  proc\t\tsrv    tmp\n",
            "datalab  lib   mnt    root\t\tswift  tools\n"
          ],
          "name": "stdout"
        }
      ]
    },
    {
      "cell_type": "code",
      "metadata": {
        "id": "ycz-nQ9jy8lH",
        "colab_type": "code",
        "colab": {}
      },
      "source": [
        "import pandas as pd\n",
        "\n",
        "omdb_df= pd.read_csv('movies_rated.csv')\n",
        "print(omdb_df.head())"
      ],
      "execution_count": 0,
      "outputs": []
    },
    {
      "cell_type": "code",
      "metadata": {
        "id": "LnHBYW8ozqaF",
        "colab_type": "code",
        "colab": {}
      },
      "source": [
        "\n"
      ],
      "execution_count": 0,
      "outputs": []
    },
    {
      "cell_type": "code",
      "metadata": {
        "id": "TRdPBjgo0o-t",
        "colab_type": "code",
        "colab": {}
      },
      "source": [
        ""
      ],
      "execution_count": 0,
      "outputs": []
    },
    {
      "cell_type": "markdown",
      "metadata": {
        "id": "KANeZP9R048q",
        "colab_type": "text"
      },
      "source": [
        "Import the data CSV as dataframe (See above for link to dataset)\n",
        "Print first 5 rows\n"
      ]
    },
    {
      "cell_type": "code",
      "metadata": {
        "id": "ZwTrwzEJ09o7",
        "colab_type": "code",
        "colab": {}
      },
      "source": [
        ""
      ],
      "execution_count": 0,
      "outputs": []
    },
    {
      "cell_type": "markdown",
      "metadata": {
        "id": "9b6h7q5o1Gtc",
        "colab_type": "text"
      },
      "source": [
        "##Print out the num rows and cols in the dataset\n"
      ]
    },
    {
      "cell_type": "code",
      "metadata": {
        "id": "9NlR79011HIL",
        "colab_type": "code",
        "colab": {
          "base_uri": "https://localhost:8080/",
          "height": 34
        },
        "outputId": "c13aa715-5208-40f7-d5bb-75d8b0e29025"
      },
      "source": [
        "print(omdb_df.shape)"
      ],
      "execution_count": 17,
      "outputs": [
        {
          "output_type": "stream",
          "text": [
            "(79, 9)\n"
          ],
          "name": "stdout"
        }
      ]
    },
    {
      "cell_type": "code",
      "metadata": {
        "id": "4mws9uoC1KJi",
        "colab_type": "code",
        "colab": {}
      },
      "source": [
        ""
      ],
      "execution_count": 0,
      "outputs": []
    },
    {
      "cell_type": "markdown",
      "metadata": {
        "id": "bKp9HVVR1Z-U",
        "colab_type": "text"
      },
      "source": [
        "##Print out column names\n"
      ]
    },
    {
      "cell_type": "code",
      "metadata": {
        "id": "PQkyKTLk1dx5",
        "colab_type": "code",
        "colab": {
          "base_uri": "https://localhost:8080/",
          "height": 68
        },
        "outputId": "02a8aeb8-5420-4dda-ca65-8a86fe0d5ab3"
      },
      "source": [
        "print(omdb_df.columns)"
      ],
      "execution_count": 20,
      "outputs": [
        {
          "output_type": "stream",
          "text": [
            "Index(['title', 'year', 'content_rating', 'genre', 'duration', 'gross',\n",
            "       'Internet Movie Database', 'Rotten Tomatoes', 'Metacritic'],\n",
            "      dtype='object')\n"
          ],
          "name": "stdout"
        }
      ]
    },
    {
      "cell_type": "code",
      "metadata": {
        "id": "Q67PECgL1gbh",
        "colab_type": "code",
        "colab": {}
      },
      "source": [
        ""
      ],
      "execution_count": 0,
      "outputs": []
    },
    {
      "cell_type": "markdown",
      "metadata": {
        "id": "krL_2Spd10LF",
        "colab_type": "text"
      },
      "source": [
        "## Print column data types"
      ]
    },
    {
      "cell_type": "code",
      "metadata": {
        "id": "rLF6ZZ7n17yL",
        "colab_type": "code",
        "colab": {
          "base_uri": "https://localhost:8080/",
          "height": 187
        },
        "outputId": "82607b4f-efda-482f-da33-36cf22953091"
      },
      "source": [
        "print(omdb_df.dtypes)\n"
      ],
      "execution_count": 23,
      "outputs": [
        {
          "output_type": "stream",
          "text": [
            "title                       object\n",
            "year                         int64\n",
            "content_rating              object\n",
            "genre                       object\n",
            "duration                     int64\n",
            "gross                        int64\n",
            "Internet Movie Database    float64\n",
            "Rotten Tomatoes            float64\n",
            "Metacritic                 float64\n",
            "dtype: object\n"
          ],
          "name": "stdout"
        }
      ]
    },
    {
      "cell_type": "markdown",
      "metadata": {
        "id": "lyPDjQg51mWG",
        "colab_type": "text"
      },
      "source": [
        "##how many un\n"
      ]
    },
    {
      "cell_type": "code",
      "metadata": {
        "id": "TOjuGn5P16tY",
        "colab_type": "code",
        "colab": {}
      },
      "source": [
        ""
      ],
      "execution_count": 0,
      "outputs": []
    },
    {
      "cell_type": "code",
      "metadata": {
        "id": "epezsjg21ok4",
        "colab_type": "code",
        "colab": {
          "base_uri": "https://localhost:8080/",
          "height": 34
        },
        "outputId": "c6db68a0-5998-4e82-91c5-1d39dc5e2549"
      },
      "source": [
        "print(omdb_df['genre'].nunique())\n"
      ],
      "execution_count": 22,
      "outputs": [
        {
          "output_type": "stream",
          "text": [
            "12\n"
          ],
          "name": "stdout"
        }
      ]
    },
    {
      "cell_type": "code",
      "metadata": {
        "id": "x5Ofu8-51sTg",
        "colab_type": "code",
        "colab": {}
      },
      "source": [
        ""
      ],
      "execution_count": 0,
      "outputs": []
    },
    {
      "cell_type": "code",
      "metadata": {
        "id": "qU4gdJd714em",
        "colab_type": "code",
        "colab": {
          "base_uri": "https://localhost:8080/",
          "height": 238
        },
        "outputId": "5e639be3-04a0-41ee-ec45-8c8b2a5e7f12"
      },
      "source": [
        "print(omdb_df['genre'].value_counts(dropna=False))\n"
      ],
      "execution_count": 24,
      "outputs": [
        {
          "output_type": "stream",
          "text": [
            "Crime                  16\n",
            "Drama                  14\n",
            "Action                 11\n",
            "Adventure               9\n",
            "Drama                   7\n",
            "Biography               5\n",
            "Animation               5\n",
            "Comedy                  4\n",
            "Western                 3\n",
            "Mystery                 2\n",
            "Horror                  2\n",
            "Comedy                  1\n",
            "Name: genre, dtype: int64\n"
          ],
          "name": "stdout"
        }
      ]
    },
    {
      "cell_type": "code",
      "metadata": {
        "id": "S1MoGyIK2OVU",
        "colab_type": "code",
        "colab": {
          "base_uri": "https://localhost:8080/",
          "height": 153
        },
        "outputId": "a48107e8-a4ec-4f25-86bb-11754e8a85d8"
      },
      "source": [
        "print(omdb_df[omdb_df['content_rating']=='R'].sort_values(by ='Internet Movie Database', ascending= False).head(5))"
      ],
      "execution_count": 27,
      "outputs": [
        {
          "output_type": "stream",
          "text": [
            "                            title  year  ... Rotten Tomatoes Metacritic\n",
            "0        The Shawshank Redemption  1994  ...             9.1        8.0\n",
            "1                   The Godfather  1972  ...             9.8       10.0\n",
            "3          The Godfather: Part II  1974  ...             9.7        9.0\n",
            "5                Schindler's List  1993  ...             9.7        9.3\n",
            "7  The Good, the Bad and the Ugly  1966  ...             9.7        9.0\n",
            "\n",
            "[5 rows x 9 columns]\n"
          ],
          "name": "stdout"
        }
      ]
    },
    {
      "cell_type": "code",
      "metadata": {
        "id": "EB0By11H2yoa",
        "colab_type": "code",
        "colab": {
          "base_uri": "https://localhost:8080/",
          "height": 34
        },
        "outputId": "fed3d206-4239-4bb0-e7e5-a834d052bd06"
      },
      "source": [
        "print(omdb_df['Rotten Tomatoes'].mean())\n"
      ],
      "execution_count": 28,
      "outputs": [
        {
          "output_type": "stream",
          "text": [
            "9.087341772151895\n"
          ],
          "name": "stdout"
        }
      ]
    },
    {
      "cell_type": "code",
      "metadata": {
        "id": "33KyhT8K3oRw",
        "colab_type": "code",
        "colab": {
          "base_uri": "https://localhost:8080/",
          "height": 34
        },
        "outputId": "5f3e9740-b175-49d2-9a8d-54d13d31472d"
      },
      "source": [
        "top_five= omdb_df.sort_values(by ='Rotten Tomatoes', ascending= False).head(5)\n",
        "print('top 5 is:', top_five['Rotten Tomatoes'].mean())"
      ],
      "execution_count": 29,
      "outputs": [
        {
          "output_type": "stream",
          "text": [
            "top 5 is: 10.0\n"
          ],
          "name": "stdout"
        }
      ]
    },
    {
      "cell_type": "markdown",
      "metadata": {
        "id": "QsSMw93m3zJy",
        "colab_type": "text"
      },
      "source": [
        "##What is the Five Number Summary like for top rated films as per IMDB?\n"
      ]
    },
    {
      "cell_type": "code",
      "metadata": {
        "id": "MXOjdCh03rtw",
        "colab_type": "code",
        "colab": {
          "base_uri": "https://localhost:8080/",
          "height": 170
        },
        "outputId": "1215a8a1-75eb-41bd-9304-1de030231f8f"
      },
      "source": [
        "print(omdb_df[['Internet Movie Database']].describe())\n"
      ],
      "execution_count": 30,
      "outputs": [
        {
          "output_type": "stream",
          "text": [
            "       Internet Movie Database\n",
            "count                79.000000\n",
            "mean                  8.537975\n",
            "std                   0.222056\n",
            "min                   8.300000\n",
            "25%                   8.400000\n",
            "50%                   8.500000\n",
            "75%                   8.600000\n",
            "max                   9.300000\n"
          ],
          "name": "stdout"
        }
      ]
    },
    {
      "cell_type": "code",
      "metadata": {
        "id": "2TDm9OqU3wfn",
        "colab_type": "code",
        "colab": {}
      },
      "source": [
        "\n"
      ],
      "execution_count": 0,
      "outputs": []
    }
  ]
}