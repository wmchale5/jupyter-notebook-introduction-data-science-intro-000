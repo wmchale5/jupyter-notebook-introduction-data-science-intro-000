{
  "nbformat": 4,
  "nbformat_minor": 0,
  "metadata": {
    "colab": {
      "name": "UK Macro Project",
      "version": "0.3.2",
      "provenance": [],
      "collapsed_sections": [],
      "toc_visible": true,
      "include_colab_link": true
    },
    "kernelspec": {
      "name": "python3",
      "display_name": "Python 3"
    }
  },
  "cells": [
    {
      "cell_type": "markdown",
      "metadata": {
        "id": "view-in-github",
        "colab_type": "text"
      },
      "source": [
        "<a href=\"https://colab.research.google.com/github/wmchale5/jupyter-notebook-introduction-data-science-intro-000/blob/master/UK_Macro_Project.ipynb\" target=\"_parent\"><img src=\"https://colab.research.google.com/assets/colab-badge.svg\" alt=\"Open In Colab\"/></a>"
      ]
    },
    {
      "cell_type": "code",
      "metadata": {
        "id": "JvAGhsXjfAPE",
        "colab_type": "code",
        "colab": {}
      },
      "source": [
        "import pandas as pd\n",
        "import numpy as np\n",
        "# import matplotlib as plt\n",
        "import matplotlib.pyplot as plt\n",
        "%matplotlib inline\n",
        "\n",
        "\n",
        "\n"
      ],
      "execution_count": 0,
      "outputs": []
    },
    {
      "cell_type": "markdown",
      "metadata": {
        "id": "TsUIRn-oQpIJ",
        "colab_type": "text"
      },
      "source": [
        "# Introduction: Eight Centuries of Economic Data in England\n",
        "\n",
        "##Research Questions:\n",
        "\n",
        "How has GDP grown overtime?\n",
        "\n",
        "How does population growth compare to GDP growth?\n",
        "\n",
        "What were the best and worst periods for economic growth?\n",
        "\n",
        "How does wage growth compare to GDP growth? \n",
        "\n",
        "Can any insights be drawn regarding income inequality by looking at this data?\n"
      ]
    },
    {
      "cell_type": "code",
      "metadata": {
        "id": "hpEODPMNfPAG",
        "colab_type": "code",
        "colab": {}
      },
      "source": [
        "#reading first dataset\n",
        "\n",
        "uk_gdp_macro = pd.read_csv('GDP_csv.csv')\n"
      ],
      "execution_count": 0,
      "outputs": []
    },
    {
      "cell_type": "code",
      "metadata": {
        "id": "TeSDkW3PfXB8",
        "colab_type": "code",
        "outputId": "9f7601c1-0ac3-480d-c8d7-ff86ac4c92bd",
        "colab": {
          "base_uri": "https://localhost:8080/",
          "height": 377
        }
      },
      "source": [
        "uk_gdp_macro.head()"
      ],
      "execution_count": 32,
      "outputs": [
        {
          "output_type": "execute_result",
          "data": {
            "text/html": [
              "<div>\n",
              "<style scoped>\n",
              "    .dataframe tbody tr th:only-of-type {\n",
              "        vertical-align: middle;\n",
              "    }\n",
              "\n",
              "    .dataframe tbody tr th {\n",
              "        vertical-align: top;\n",
              "    }\n",
              "\n",
              "    .dataframe thead th {\n",
              "        text-align: right;\n",
              "    }\n",
              "</style>\n",
              "<table border=\"1\" class=\"dataframe\">\n",
              "  <thead>\n",
              "    <tr style=\"text-align: right;\">\n",
              "      <th></th>\n",
              "      <th>Unnamed: 0</th>\n",
              "      <th>Nominal GDP at market prices</th>\n",
              "      <th>Factor cost adjustment 1270-1700, assuming direct taxes on land are a tax on production</th>\n",
              "      <th>Nominal GDP at factor cost</th>\n",
              "      <th>Real GDP, 2013 market prices</th>\n",
              "      <th>Real GDP, at 2013 factor cost</th>\n",
              "      <th>Population</th>\n",
              "      <th>Nominal GDP per capita</th>\n",
              "      <th>Real GDP per capita</th>\n",
              "      <th>GDP deflator at market prices</th>\n",
              "      <th>GDP deflator at factor cost</th>\n",
              "      <th>Unnamed: 11</th>\n",
              "      <th>Unnamed: 12</th>\n",
              "      <th>Unnamed: 13</th>\n",
              "      <th>Unnamed: 14</th>\n",
              "      <th>Unnamed: 15</th>\n",
              "      <th>Unnamed: 16</th>\n",
              "      <th>Unnamed: 17</th>\n",
              "    </tr>\n",
              "  </thead>\n",
              "  <tbody>\n",
              "    <tr>\n",
              "      <th>0</th>\n",
              "      <td>1270.0</td>\n",
              "      <td>4.4</td>\n",
              "      <td>0.030</td>\n",
              "      <td>4.4</td>\n",
              "      <td>3518.0</td>\n",
              "      <td>3066.0</td>\n",
              "      <td>4.36</td>\n",
              "      <td>1.01</td>\n",
              "      <td>805.92</td>\n",
              "      <td>0.13</td>\n",
              "      <td>0.14</td>\n",
              "      <td>NaN</td>\n",
              "      <td>NaN</td>\n",
              "      <td>NaN</td>\n",
              "      <td>NaN</td>\n",
              "      <td>NaN</td>\n",
              "      <td>NaN</td>\n",
              "      <td>NaN</td>\n",
              "    </tr>\n",
              "    <tr>\n",
              "      <th>1</th>\n",
              "      <td>1271.0</td>\n",
              "      <td>4.8</td>\n",
              "      <td>0.030</td>\n",
              "      <td>4.7</td>\n",
              "      <td>3481.0</td>\n",
              "      <td>3034.0</td>\n",
              "      <td>4.37</td>\n",
              "      <td>1.09</td>\n",
              "      <td>796.30</td>\n",
              "      <td>0.14</td>\n",
              "      <td>0.16</td>\n",
              "      <td>NaN</td>\n",
              "      <td>NaN</td>\n",
              "      <td>NaN</td>\n",
              "      <td>NaN</td>\n",
              "      <td>NaN</td>\n",
              "      <td>NaN</td>\n",
              "      <td>NaN</td>\n",
              "    </tr>\n",
              "    <tr>\n",
              "      <th>2</th>\n",
              "      <td>1272.0</td>\n",
              "      <td>4.9</td>\n",
              "      <td>0.030</td>\n",
              "      <td>4.9</td>\n",
              "      <td>3612.0</td>\n",
              "      <td>3148.0</td>\n",
              "      <td>4.38</td>\n",
              "      <td>1.13</td>\n",
              "      <td>824.89</td>\n",
              "      <td>0.14</td>\n",
              "      <td>0.16</td>\n",
              "      <td>NaN</td>\n",
              "      <td>NaN</td>\n",
              "      <td>NaN</td>\n",
              "      <td>NaN</td>\n",
              "      <td>NaN</td>\n",
              "      <td>NaN</td>\n",
              "      <td>NaN</td>\n",
              "    </tr>\n",
              "    <tr>\n",
              "      <th>3</th>\n",
              "      <td>1273.0</td>\n",
              "      <td>4.4</td>\n",
              "      <td>0.030</td>\n",
              "      <td>4.4</td>\n",
              "      <td>3407.0</td>\n",
              "      <td>2969.0</td>\n",
              "      <td>4.39</td>\n",
              "      <td>1.00</td>\n",
              "      <td>776.85</td>\n",
              "      <td>0.13</td>\n",
              "      <td>0.15</td>\n",
              "      <td>NaN</td>\n",
              "      <td>NaN</td>\n",
              "      <td>NaN</td>\n",
              "      <td>NaN</td>\n",
              "      <td>NaN</td>\n",
              "      <td>NaN</td>\n",
              "      <td>NaN</td>\n",
              "    </tr>\n",
              "    <tr>\n",
              "      <th>4</th>\n",
              "      <td>1274.0</td>\n",
              "      <td>4.7</td>\n",
              "      <td>0.027</td>\n",
              "      <td>4.6</td>\n",
              "      <td>3394.0</td>\n",
              "      <td>2958.0</td>\n",
              "      <td>4.39</td>\n",
              "      <td>1.06</td>\n",
              "      <td>772.75</td>\n",
              "      <td>0.14</td>\n",
              "      <td>0.16</td>\n",
              "      <td>NaN</td>\n",
              "      <td>NaN</td>\n",
              "      <td>NaN</td>\n",
              "      <td>NaN</td>\n",
              "      <td>NaN</td>\n",
              "      <td>NaN</td>\n",
              "      <td>NaN</td>\n",
              "    </tr>\n",
              "  </tbody>\n",
              "</table>\n",
              "</div>"
            ],
            "text/plain": [
              "   Unnamed: 0  Nominal GDP at market prices  ...  Unnamed: 16  Unnamed: 17\n",
              "0      1270.0                           4.4  ...          NaN          NaN\n",
              "1      1271.0                           4.8  ...          NaN          NaN\n",
              "2      1272.0                           4.9  ...          NaN          NaN\n",
              "3      1273.0                           4.4  ...          NaN          NaN\n",
              "4      1274.0                           4.7  ...          NaN          NaN\n",
              "\n",
              "[5 rows x 18 columns]"
            ]
          },
          "metadata": {
            "tags": []
          },
          "execution_count": 32
        }
      ]
    },
    {
      "cell_type": "code",
      "metadata": {
        "id": "NNceZluTfZmE",
        "colab_type": "code",
        "outputId": "50662031-8309-4f37-d246-95c951679f9a",
        "colab": {
          "base_uri": "https://localhost:8080/",
          "height": 323
        }
      },
      "source": [
        "#displaying column names\n",
        "cols = uk_gdp_macro.columns\n",
        "for idx, col in enumerate(cols):\n",
        "  print(idx+1, col)"
      ],
      "execution_count": 4,
      "outputs": [
        {
          "output_type": "stream",
          "text": [
            "1 Unnamed: 0\n",
            "2 Nominal GDP at market prices\n",
            "3 Factor cost adjustment 1270-1700, assuming direct taxes on land are a tax on production\n",
            "4 Nominal GDP at factor cost\n",
            "5 Real GDP, 2013 market prices\n",
            "6 Real GDP, at 2013 factor cost\n",
            "7 Population\n",
            "8 Nominal GDP per capita\n",
            "9 Real GDP per capita\n",
            "10 GDP deflator at market prices\n",
            "11 GDP deflator at factor cost\n",
            "12 Unnamed: 11\n",
            "13 Unnamed: 12\n",
            "14 Unnamed: 13\n",
            "15 Unnamed: 14\n",
            "16 Unnamed: 15\n",
            "17 Unnamed: 16\n",
            "18 Unnamed: 17\n"
          ],
          "name": "stdout"
        }
      ]
    },
    {
      "cell_type": "code",
      "metadata": {
        "id": "JDXJAv6UfwgA",
        "colab_type": "code",
        "colab": {}
      },
      "source": [
        "#renaming first column 'Year' and renaming 'Real GDP' to make column easier to work with\n",
        "\n",
        "new_GDP = uk_gdp_macro.rename(columns={'Unnamed: 0': 'Year', 'Real GDP, 2013 market prices':'Real GDP'}, inplace=False)\n"
      ],
      "execution_count": 0,
      "outputs": []
    },
    {
      "cell_type": "code",
      "metadata": {
        "id": "AxxcbvvCgOe9",
        "colab_type": "code",
        "outputId": "086acf2f-6d03-4c41-d4f3-60233cecc12d",
        "colab": {
          "base_uri": "https://localhost:8080/",
          "height": 377
        }
      },
      "source": [
        "new_GDP.head()"
      ],
      "execution_count": 7,
      "outputs": [
        {
          "output_type": "execute_result",
          "data": {
            "text/html": [
              "<div>\n",
              "<style scoped>\n",
              "    .dataframe tbody tr th:only-of-type {\n",
              "        vertical-align: middle;\n",
              "    }\n",
              "\n",
              "    .dataframe tbody tr th {\n",
              "        vertical-align: top;\n",
              "    }\n",
              "\n",
              "    .dataframe thead th {\n",
              "        text-align: right;\n",
              "    }\n",
              "</style>\n",
              "<table border=\"1\" class=\"dataframe\">\n",
              "  <thead>\n",
              "    <tr style=\"text-align: right;\">\n",
              "      <th></th>\n",
              "      <th>Year</th>\n",
              "      <th>Nominal GDP at market prices</th>\n",
              "      <th>Factor cost adjustment 1270-1700, assuming direct taxes on land are a tax on production</th>\n",
              "      <th>Nominal GDP at factor cost</th>\n",
              "      <th>Real GDP</th>\n",
              "      <th>Real GDP, at 2013 factor cost</th>\n",
              "      <th>Population</th>\n",
              "      <th>Nominal GDP per capita</th>\n",
              "      <th>Real GDP per capita</th>\n",
              "      <th>GDP deflator at market prices</th>\n",
              "      <th>GDP deflator at factor cost</th>\n",
              "      <th>Unnamed: 11</th>\n",
              "      <th>Unnamed: 12</th>\n",
              "      <th>Unnamed: 13</th>\n",
              "      <th>Unnamed: 14</th>\n",
              "      <th>Unnamed: 15</th>\n",
              "      <th>Unnamed: 16</th>\n",
              "      <th>Unnamed: 17</th>\n",
              "    </tr>\n",
              "  </thead>\n",
              "  <tbody>\n",
              "    <tr>\n",
              "      <th>0</th>\n",
              "      <td>1270.0</td>\n",
              "      <td>4.4</td>\n",
              "      <td>0.030</td>\n",
              "      <td>4.4</td>\n",
              "      <td>3518.0</td>\n",
              "      <td>3066.0</td>\n",
              "      <td>4.36</td>\n",
              "      <td>1.01</td>\n",
              "      <td>805.92</td>\n",
              "      <td>0.13</td>\n",
              "      <td>0.14</td>\n",
              "      <td>NaN</td>\n",
              "      <td>NaN</td>\n",
              "      <td>NaN</td>\n",
              "      <td>NaN</td>\n",
              "      <td>NaN</td>\n",
              "      <td>NaN</td>\n",
              "      <td>NaN</td>\n",
              "    </tr>\n",
              "    <tr>\n",
              "      <th>1</th>\n",
              "      <td>1271.0</td>\n",
              "      <td>4.8</td>\n",
              "      <td>0.030</td>\n",
              "      <td>4.7</td>\n",
              "      <td>3481.0</td>\n",
              "      <td>3034.0</td>\n",
              "      <td>4.37</td>\n",
              "      <td>1.09</td>\n",
              "      <td>796.30</td>\n",
              "      <td>0.14</td>\n",
              "      <td>0.16</td>\n",
              "      <td>NaN</td>\n",
              "      <td>NaN</td>\n",
              "      <td>NaN</td>\n",
              "      <td>NaN</td>\n",
              "      <td>NaN</td>\n",
              "      <td>NaN</td>\n",
              "      <td>NaN</td>\n",
              "    </tr>\n",
              "    <tr>\n",
              "      <th>2</th>\n",
              "      <td>1272.0</td>\n",
              "      <td>4.9</td>\n",
              "      <td>0.030</td>\n",
              "      <td>4.9</td>\n",
              "      <td>3612.0</td>\n",
              "      <td>3148.0</td>\n",
              "      <td>4.38</td>\n",
              "      <td>1.13</td>\n",
              "      <td>824.89</td>\n",
              "      <td>0.14</td>\n",
              "      <td>0.16</td>\n",
              "      <td>NaN</td>\n",
              "      <td>NaN</td>\n",
              "      <td>NaN</td>\n",
              "      <td>NaN</td>\n",
              "      <td>NaN</td>\n",
              "      <td>NaN</td>\n",
              "      <td>NaN</td>\n",
              "    </tr>\n",
              "    <tr>\n",
              "      <th>3</th>\n",
              "      <td>1273.0</td>\n",
              "      <td>4.4</td>\n",
              "      <td>0.030</td>\n",
              "      <td>4.4</td>\n",
              "      <td>3407.0</td>\n",
              "      <td>2969.0</td>\n",
              "      <td>4.39</td>\n",
              "      <td>1.00</td>\n",
              "      <td>776.85</td>\n",
              "      <td>0.13</td>\n",
              "      <td>0.15</td>\n",
              "      <td>NaN</td>\n",
              "      <td>NaN</td>\n",
              "      <td>NaN</td>\n",
              "      <td>NaN</td>\n",
              "      <td>NaN</td>\n",
              "      <td>NaN</td>\n",
              "      <td>NaN</td>\n",
              "    </tr>\n",
              "    <tr>\n",
              "      <th>4</th>\n",
              "      <td>1274.0</td>\n",
              "      <td>4.7</td>\n",
              "      <td>0.027</td>\n",
              "      <td>4.6</td>\n",
              "      <td>3394.0</td>\n",
              "      <td>2958.0</td>\n",
              "      <td>4.39</td>\n",
              "      <td>1.06</td>\n",
              "      <td>772.75</td>\n",
              "      <td>0.14</td>\n",
              "      <td>0.16</td>\n",
              "      <td>NaN</td>\n",
              "      <td>NaN</td>\n",
              "      <td>NaN</td>\n",
              "      <td>NaN</td>\n",
              "      <td>NaN</td>\n",
              "      <td>NaN</td>\n",
              "      <td>NaN</td>\n",
              "    </tr>\n",
              "  </tbody>\n",
              "</table>\n",
              "</div>"
            ],
            "text/plain": [
              "     Year  Nominal GDP at market prices  ...  Unnamed: 16  Unnamed: 17\n",
              "0  1270.0                           4.4  ...          NaN          NaN\n",
              "1  1271.0                           4.8  ...          NaN          NaN\n",
              "2  1272.0                           4.9  ...          NaN          NaN\n",
              "3  1273.0                           4.4  ...          NaN          NaN\n",
              "4  1274.0                           4.7  ...          NaN          NaN\n",
              "\n",
              "[5 rows x 18 columns]"
            ]
          },
          "metadata": {
            "tags": []
          },
          "execution_count": 7
        }
      ]
    },
    {
      "cell_type": "code",
      "metadata": {
        "id": "9XYaj_wmgQ_V",
        "colab_type": "code",
        "colab": {}
      },
      "source": [
        "#dropping the NaN columns \n",
        "\n",
        "new_GDP = new_GDP.drop(new_GDP.columns[[11,12,13,14,15,16,17]], axis=1) "
      ],
      "execution_count": 0,
      "outputs": []
    },
    {
      "cell_type": "code",
      "metadata": {
        "id": "oS0z5y-6g7H6",
        "colab_type": "code",
        "outputId": "483ad25e-a3a3-4e01-cfa4-ea247b174ed1",
        "colab": {
          "base_uri": "https://localhost:8080/",
          "height": 377
        }
      },
      "source": [
        "new_GDP.head()"
      ],
      "execution_count": 40,
      "outputs": [
        {
          "output_type": "execute_result",
          "data": {
            "text/html": [
              "<div>\n",
              "<style scoped>\n",
              "    .dataframe tbody tr th:only-of-type {\n",
              "        vertical-align: middle;\n",
              "    }\n",
              "\n",
              "    .dataframe tbody tr th {\n",
              "        vertical-align: top;\n",
              "    }\n",
              "\n",
              "    .dataframe thead th {\n",
              "        text-align: right;\n",
              "    }\n",
              "</style>\n",
              "<table border=\"1\" class=\"dataframe\">\n",
              "  <thead>\n",
              "    <tr style=\"text-align: right;\">\n",
              "      <th></th>\n",
              "      <th>Year</th>\n",
              "      <th>Nominal GDP at market prices</th>\n",
              "      <th>Factor cost adjustment 1270-1700, assuming direct taxes on land are a tax on production</th>\n",
              "      <th>Nominal GDP at factor cost</th>\n",
              "      <th>Real GDP</th>\n",
              "      <th>Real GDP, at 2013 factor cost</th>\n",
              "      <th>Population</th>\n",
              "      <th>Nominal GDP per capita</th>\n",
              "      <th>Real GDP per capita</th>\n",
              "      <th>GDP deflator at market prices</th>\n",
              "      <th>GDP deflator at factor cost</th>\n",
              "      <th>Unnamed: 11</th>\n",
              "      <th>Unnamed: 12</th>\n",
              "      <th>Unnamed: 13</th>\n",
              "      <th>Unnamed: 14</th>\n",
              "      <th>Unnamed: 15</th>\n",
              "      <th>Unnamed: 16</th>\n",
              "      <th>Unnamed: 17</th>\n",
              "    </tr>\n",
              "  </thead>\n",
              "  <tbody>\n",
              "    <tr>\n",
              "      <th>0</th>\n",
              "      <td>1270.0</td>\n",
              "      <td>4.4</td>\n",
              "      <td>0.030</td>\n",
              "      <td>4.4</td>\n",
              "      <td>3518.0</td>\n",
              "      <td>3066.0</td>\n",
              "      <td>4.36</td>\n",
              "      <td>1.01</td>\n",
              "      <td>805.92</td>\n",
              "      <td>0.13</td>\n",
              "      <td>0.14</td>\n",
              "      <td>NaN</td>\n",
              "      <td>NaN</td>\n",
              "      <td>NaN</td>\n",
              "      <td>NaN</td>\n",
              "      <td>NaN</td>\n",
              "      <td>NaN</td>\n",
              "      <td>NaN</td>\n",
              "    </tr>\n",
              "    <tr>\n",
              "      <th>1</th>\n",
              "      <td>1271.0</td>\n",
              "      <td>4.8</td>\n",
              "      <td>0.030</td>\n",
              "      <td>4.7</td>\n",
              "      <td>3481.0</td>\n",
              "      <td>3034.0</td>\n",
              "      <td>4.37</td>\n",
              "      <td>1.09</td>\n",
              "      <td>796.30</td>\n",
              "      <td>0.14</td>\n",
              "      <td>0.16</td>\n",
              "      <td>NaN</td>\n",
              "      <td>NaN</td>\n",
              "      <td>NaN</td>\n",
              "      <td>NaN</td>\n",
              "      <td>NaN</td>\n",
              "      <td>NaN</td>\n",
              "      <td>NaN</td>\n",
              "    </tr>\n",
              "    <tr>\n",
              "      <th>2</th>\n",
              "      <td>1272.0</td>\n",
              "      <td>4.9</td>\n",
              "      <td>0.030</td>\n",
              "      <td>4.9</td>\n",
              "      <td>3612.0</td>\n",
              "      <td>3148.0</td>\n",
              "      <td>4.38</td>\n",
              "      <td>1.13</td>\n",
              "      <td>824.89</td>\n",
              "      <td>0.14</td>\n",
              "      <td>0.16</td>\n",
              "      <td>NaN</td>\n",
              "      <td>NaN</td>\n",
              "      <td>NaN</td>\n",
              "      <td>NaN</td>\n",
              "      <td>NaN</td>\n",
              "      <td>NaN</td>\n",
              "      <td>NaN</td>\n",
              "    </tr>\n",
              "    <tr>\n",
              "      <th>3</th>\n",
              "      <td>1273.0</td>\n",
              "      <td>4.4</td>\n",
              "      <td>0.030</td>\n",
              "      <td>4.4</td>\n",
              "      <td>3407.0</td>\n",
              "      <td>2969.0</td>\n",
              "      <td>4.39</td>\n",
              "      <td>1.00</td>\n",
              "      <td>776.85</td>\n",
              "      <td>0.13</td>\n",
              "      <td>0.15</td>\n",
              "      <td>NaN</td>\n",
              "      <td>NaN</td>\n",
              "      <td>NaN</td>\n",
              "      <td>NaN</td>\n",
              "      <td>NaN</td>\n",
              "      <td>NaN</td>\n",
              "      <td>NaN</td>\n",
              "    </tr>\n",
              "    <tr>\n",
              "      <th>4</th>\n",
              "      <td>1274.0</td>\n",
              "      <td>4.7</td>\n",
              "      <td>0.027</td>\n",
              "      <td>4.6</td>\n",
              "      <td>3394.0</td>\n",
              "      <td>2958.0</td>\n",
              "      <td>4.39</td>\n",
              "      <td>1.06</td>\n",
              "      <td>772.75</td>\n",
              "      <td>0.14</td>\n",
              "      <td>0.16</td>\n",
              "      <td>NaN</td>\n",
              "      <td>NaN</td>\n",
              "      <td>NaN</td>\n",
              "      <td>NaN</td>\n",
              "      <td>NaN</td>\n",
              "      <td>NaN</td>\n",
              "      <td>NaN</td>\n",
              "    </tr>\n",
              "  </tbody>\n",
              "</table>\n",
              "</div>"
            ],
            "text/plain": [
              "     Year  Nominal GDP at market prices  ...  Unnamed: 16  Unnamed: 17\n",
              "0  1270.0                           4.4  ...          NaN          NaN\n",
              "1  1271.0                           4.8  ...          NaN          NaN\n",
              "2  1272.0                           4.9  ...          NaN          NaN\n",
              "3  1273.0                           4.4  ...          NaN          NaN\n",
              "4  1274.0                           4.7  ...          NaN          NaN\n",
              "\n",
              "[5 rows x 18 columns]"
            ]
          },
          "metadata": {
            "tags": []
          },
          "execution_count": 40
        }
      ]
    },
    {
      "cell_type": "code",
      "metadata": {
        "id": "WLNxiSfahJmQ",
        "colab_type": "code",
        "outputId": "c4ec7876-34fb-4fa2-eaf2-338e6435c784",
        "colab": {
          "base_uri": "https://localhost:8080/",
          "height": 300
        }
      },
      "source": [
        "#first look at the data\n",
        "new_GDP.plot(kind= 'line', x='Year', y='Real GDP')\n",
        "\n"
      ],
      "execution_count": 12,
      "outputs": [
        {
          "output_type": "execute_result",
          "data": {
            "text/plain": [
              "<matplotlib.axes._subplots.AxesSubplot at 0x7f6e4702d4a8>"
            ]
          },
          "metadata": {
            "tags": []
          },
          "execution_count": 12
        },
        {
          "output_type": "display_data",
          "data": {
            "image/png": "[encoded data removed]",
            "text/plain": [
              "<Figure size 432x288 with 1 Axes>"
            ]
          },
          "metadata": {
            "tags": []
          }
        }
      ]
    },
    {
      "cell_type": "markdown",
      "metadata": {
        "id": "Z8AxIzK9TKUp",
        "colab_type": "text"
      },
      "source": [
        "The Hockey Stick: GDP appears to have been almost flat from 1300 to 1800.\n",
        "From then on, it grew exponentially. "
      ]
    },
    {
      "cell_type": "code",
      "metadata": {
        "id": "gVRIyWYlUS_P",
        "colab_type": "code",
        "colab": {
          "base_uri": "https://localhost:8080/",
          "height": 300
        },
        "outputId": "28f293cc-68c2-4b40-d36e-6cf116f2d261"
      },
      "source": [
        "#Next, lets look at Population growth\n",
        "new_GDP.plot(kind= 'line', x='Year', y='Population')\n"
      ],
      "execution_count": 14,
      "outputs": [
        {
          "output_type": "execute_result",
          "data": {
            "text/plain": [
              "<matplotlib.axes._subplots.AxesSubplot at 0x7f6e447247f0>"
            ]
          },
          "metadata": {
            "tags": []
          },
          "execution_count": 14
        },
        {
          "output_type": "display_data",
          "data": {
            "image/png": "[encoded data removed]",
            "text/plain": [
              "<Figure size 432x288 with 1 Axes>"
            ]
          },
          "metadata": {
            "tags": []
          }
        }
      ]
    },
    {
      "cell_type": "markdown",
      "metadata": {
        "id": "F2mpaENmUgWh",
        "colab_type": "text"
      },
      "source": [
        "The population growth chart is roughly the same shape as GDP although the positive inflection point preceeds GDP by about 100 years. The population of England approximately tripled in the 1800s. Perhaps this rapid rise in population led to the exponential growth in GDP in the 1900s. "
      ]
    },
    {
      "cell_type": "code",
      "metadata": {
        "id": "gOtL7JrCgFYs",
        "colab_type": "code",
        "colab": {
          "base_uri": "https://localhost:8080/",
          "height": 34
        },
        "outputId": "cf3177cd-9d9b-4266-f274-157f66490cd9"
      },
      "source": [
        "# Calculate correlation coeffcient between Real GDP and Population\n",
        "new_GDP['Population'].corr(new_GDP['Real GDP'])"
      ],
      "execution_count": 55,
      "outputs": [
        {
          "output_type": "execute_result",
          "data": {
            "text/plain": [
              "0.831626213183195"
            ]
          },
          "metadata": {
            "tags": []
          },
          "execution_count": 55
        }
      ]
    },
    {
      "cell_type": "markdown",
      "metadata": {
        "id": "SXIiTvrWghy0",
        "colab_type": "text"
      },
      "source": [
        "Unsurprisingly, real GDP and population are highly positively correlated"
      ]
    },
    {
      "cell_type": "markdown",
      "metadata": {
        "id": "BxYLrDRpVxZ1",
        "colab_type": "text"
      },
      "source": [
        "##To further examine the trends, lets seperate the dataframe into two periods: Before 1800 and after 1800\n"
      ]
    },
    {
      "cell_type": "code",
      "metadata": {
        "id": "Rl9ow8zDjWLg",
        "colab_type": "code",
        "colab": {}
      },
      "source": [
        "\n",
        "GDP_early = new_GDP[(new_GDP['Year'] < 1800)]"
      ],
      "execution_count": 0,
      "outputs": []
    },
    {
      "cell_type": "code",
      "metadata": {
        "id": "4hWTaPj3kE5F",
        "colab_type": "code",
        "outputId": "8fc5dd42-a2d0-44c5-daa4-4f0540836a7a",
        "colab": {
          "base_uri": "https://localhost:8080/",
          "height": 300
        }
      },
      "source": [
        "#plot of real GDP before 1800. \n",
        "GDP_early.plot(kind= 'line', x='Year', y='Real GDP')\n"
      ],
      "execution_count": 25,
      "outputs": [
        {
          "output_type": "execute_result",
          "data": {
            "text/plain": [
              "<matplotlib.axes._subplots.AxesSubplot at 0x7f6e443699b0>"
            ]
          },
          "metadata": {
            "tags": []
          },
          "execution_count": 25
        },
        {
          "output_type": "display_data",
          "data": {
            "image/png": "[encoded data removed]",
            "text/plain": [
              "<Figure size 432x288 with 1 Axes>"
            ]
          },
          "metadata": {
            "tags": []
          }
        }
      ]
    },
    {
      "cell_type": "markdown",
      "metadata": {
        "id": "IjRUP_IKiPGH",
        "colab_type": "text"
      },
      "source": [
        "At first glance, GDP looks to have grown significantly over this early period. Let's dig into the numbers:"
      ]
    },
    {
      "cell_type": "code",
      "metadata": {
        "id": "-Kf9JYFXWwbT",
        "colab_type": "code",
        "colab": {
          "base_uri": "https://localhost:8080/",
          "height": 51
        },
        "outputId": "8de18655-904e-46ad-b53a-7886f65bde3d"
      },
      "source": [
        "#GDP in 1270:\n",
        "print(f'GDP in 1270 is: {GDP_early.iloc[0,4]}')\n",
        "\n",
        "\n",
        "#GDP in 1799:\n",
        "print(f'GDP in 1799 is: {GDP_early.iloc[529,4]}')\n",
        "\n"
      ],
      "execution_count": 33,
      "outputs": [
        {
          "output_type": "stream",
          "text": [
            "GDP in 1270 is: 3518.0\n",
            "GDP in 1799 is: 19169.0\n"
          ],
          "name": "stdout"
        }
      ]
    },
    {
      "cell_type": "markdown",
      "metadata": {
        "id": "SSX8w82eYeBR",
        "colab_type": "text"
      },
      "source": [
        "From 1270 to 1799, GDP increased by 5.4x. On a compounded annual basis this represents less than one third of one percent. "
      ]
    },
    {
      "cell_type": "code",
      "metadata": {
        "id": "oQitzG_0kNuE",
        "colab_type": "code",
        "colab": {}
      },
      "source": [
        "#now lets look at the later period: 1800 to present\n",
        "\n",
        "GDP_late = new_GDP[(new_GDP['Year'] > 1800)]"
      ],
      "execution_count": 0,
      "outputs": []
    },
    {
      "cell_type": "code",
      "metadata": {
        "id": "QVxDL19ekt6q",
        "colab_type": "code",
        "outputId": "5b920387-34c5-4567-80cf-f3766581ed9a",
        "colab": {
          "base_uri": "https://localhost:8080/",
          "height": 300
        }
      },
      "source": [
        "GDP_late.plot(kind= 'line', x='Year', y='Real GDP')\n"
      ],
      "execution_count": 26,
      "outputs": [
        {
          "output_type": "execute_result",
          "data": {
            "text/plain": [
              "<matplotlib.axes._subplots.AxesSubplot at 0x7f6e44341a20>"
            ]
          },
          "metadata": {
            "tags": []
          },
          "execution_count": 26
        },
        {
          "output_type": "display_data",
          "data": {
            "image/png": "[encoded data removed]",
            "text/plain": [
              "<Figure size 432x288 with 1 Axes>"
            ]
          },
          "metadata": {
            "tags": []
          }
        }
      ]
    },
    {
      "cell_type": "code",
      "metadata": {
        "id": "CH_4iAeuYlPR",
        "colab_type": "code",
        "colab": {
          "base_uri": "https://localhost:8080/",
          "height": 51
        },
        "outputId": "341ef532-d090-4c24-cf30-338f6e3cc83a"
      },
      "source": [
        "#GDP in 1800:\n",
        "print(f'GDP in 1800 is: {new_GDP.iloc[530,4]}')\n",
        "\n",
        "\n",
        "#GDP in 2016:\n",
        "print(f'GDP in 2016 is: {new_GDP.iloc[746,4]}')\n"
      ],
      "execution_count": 41,
      "outputs": [
        {
          "output_type": "stream",
          "text": [
            "GDP in 1800 is: 20098.0\n",
            "GDP in 2016 is: 1600372.0\n"
          ],
          "name": "stdout"
        }
      ]
    },
    {
      "cell_type": "markdown",
      "metadata": {
        "id": "WxrmC7e9ZS57",
        "colab_type": "text"
      },
      "source": [
        "While both charts give the appearance of growth, the post-1800 period trounces the prior 500 years: GDP from 1800 to 2016 increased by a staggering 79x or a 2.05% compound annual growth rate!\n",
        "\n",
        "\n"
      ]
    },
    {
      "cell_type": "markdown",
      "metadata": {
        "id": "bFB2JWavau22",
        "colab_type": "text"
      },
      "source": [
        "#Now let's pull in some wage data from a separate CSV file"
      ]
    },
    {
      "cell_type": "code",
      "metadata": {
        "id": "dlNI5KaVkwrK",
        "colab_type": "code",
        "colab": {}
      },
      "source": [
        "\n",
        "\n",
        "wages_df = pd.read_csv('wages_csv.csv')\n"
      ],
      "execution_count": 0,
      "outputs": []
    },
    {
      "cell_type": "code",
      "metadata": {
        "id": "9qkwd_jairJ-",
        "colab_type": "code",
        "colab": {
          "base_uri": "https://localhost:8080/",
          "height": 255
        },
        "outputId": "0520e454-fd0d-4d5a-ae8b-dc1f713221e4"
      },
      "source": [
        "wages_df.head()"
      ],
      "execution_count": 44,
      "outputs": [
        {
          "output_type": "execute_result",
          "data": {
            "text/html": [
              "<div>\n",
              "<style scoped>\n",
              "    .dataframe tbody tr th:only-of-type {\n",
              "        vertical-align: middle;\n",
              "    }\n",
              "\n",
              "    .dataframe tbody tr th {\n",
              "        vertical-align: top;\n",
              "    }\n",
              "\n",
              "    .dataframe thead th {\n",
              "        text-align: right;\n",
              "    }\n",
              "</style>\n",
              "<table border=\"1\" class=\"dataframe\">\n",
              "  <thead>\n",
              "    <tr style=\"text-align: right;\">\n",
              "      <th></th>\n",
              "      <th>Source</th>\n",
              "      <th>Using preferred full employment earnings and CPI series. Traditional measure based on daily wage rates in England before 1750, Index 1900=100</th>\n",
              "      <th>Growth</th>\n",
              "      <th>10 year average</th>\n",
              "      <th>Unnamed: 4</th>\n",
              "      <th>Unnamed: 5</th>\n",
              "      <th>Unnamed: 6</th>\n",
              "    </tr>\n",
              "  </thead>\n",
              "  <tbody>\n",
              "    <tr>\n",
              "      <th>0</th>\n",
              "      <td>1270</td>\n",
              "      <td>28.868052</td>\n",
              "      <td>-2.39</td>\n",
              "      <td>-2.39</td>\n",
              "      <td>NaN</td>\n",
              "      <td>NaN</td>\n",
              "      <td>NaN</td>\n",
              "    </tr>\n",
              "    <tr>\n",
              "      <th>1</th>\n",
              "      <td>1271</td>\n",
              "      <td>23.036657</td>\n",
              "      <td>-20.20</td>\n",
              "      <td>-11.30</td>\n",
              "      <td>NaN</td>\n",
              "      <td>NaN</td>\n",
              "      <td>NaN</td>\n",
              "    </tr>\n",
              "    <tr>\n",
              "      <th>2</th>\n",
              "      <td>1272</td>\n",
              "      <td>18.599560</td>\n",
              "      <td>-19.26</td>\n",
              "      <td>-13.95</td>\n",
              "      <td>NaN</td>\n",
              "      <td>NaN</td>\n",
              "      <td>NaN</td>\n",
              "    </tr>\n",
              "    <tr>\n",
              "      <th>3</th>\n",
              "      <td>1273</td>\n",
              "      <td>25.647871</td>\n",
              "      <td>37.90</td>\n",
              "      <td>-0.99</td>\n",
              "      <td>NaN</td>\n",
              "      <td>NaN</td>\n",
              "      <td>NaN</td>\n",
              "    </tr>\n",
              "    <tr>\n",
              "      <th>4</th>\n",
              "      <td>1274</td>\n",
              "      <td>23.418401</td>\n",
              "      <td>-8.69</td>\n",
              "      <td>-2.53</td>\n",
              "      <td>NaN</td>\n",
              "      <td>NaN</td>\n",
              "      <td>NaN</td>\n",
              "    </tr>\n",
              "  </tbody>\n",
              "</table>\n",
              "</div>"
            ],
            "text/plain": [
              "   Source  ...  Unnamed: 6\n",
              "0    1270  ...         NaN\n",
              "1    1271  ...         NaN\n",
              "2    1272  ...         NaN\n",
              "3    1273  ...         NaN\n",
              "4    1274  ...         NaN\n",
              "\n",
              "[5 rows x 7 columns]"
            ]
          },
          "metadata": {
            "tags": []
          },
          "execution_count": 44
        }
      ]
    },
    {
      "cell_type": "code",
      "metadata": {
        "id": "a70L6wUSkAXp",
        "colab_type": "code",
        "colab": {}
      },
      "source": [
        "#dropping NaN columns\n",
        "\n",
        "wages_df = wages_df.drop(wages_df.columns[[4,5,6]], axis=1) "
      ],
      "execution_count": 0,
      "outputs": []
    },
    {
      "cell_type": "code",
      "metadata": {
        "id": "uwD9w8IOkTU_",
        "colab_type": "code",
        "colab": {
          "base_uri": "https://localhost:8080/",
          "height": 238
        },
        "outputId": "43002940-7a74-4050-9229-d4cea728edcd"
      },
      "source": [
        "wages_df.head()"
      ],
      "execution_count": 46,
      "outputs": [
        {
          "output_type": "execute_result",
          "data": {
            "text/html": [
              "<div>\n",
              "<style scoped>\n",
              "    .dataframe tbody tr th:only-of-type {\n",
              "        vertical-align: middle;\n",
              "    }\n",
              "\n",
              "    .dataframe tbody tr th {\n",
              "        vertical-align: top;\n",
              "    }\n",
              "\n",
              "    .dataframe thead th {\n",
              "        text-align: right;\n",
              "    }\n",
              "</style>\n",
              "<table border=\"1\" class=\"dataframe\">\n",
              "  <thead>\n",
              "    <tr style=\"text-align: right;\">\n",
              "      <th></th>\n",
              "      <th>Source</th>\n",
              "      <th>Using preferred full employment earnings and CPI series. Traditional measure based on daily wage rates in England before 1750, Index 1900=100</th>\n",
              "      <th>Growth</th>\n",
              "      <th>10 year average</th>\n",
              "    </tr>\n",
              "  </thead>\n",
              "  <tbody>\n",
              "    <tr>\n",
              "      <th>0</th>\n",
              "      <td>1270</td>\n",
              "      <td>28.868052</td>\n",
              "      <td>-2.39</td>\n",
              "      <td>-2.39</td>\n",
              "    </tr>\n",
              "    <tr>\n",
              "      <th>1</th>\n",
              "      <td>1271</td>\n",
              "      <td>23.036657</td>\n",
              "      <td>-20.20</td>\n",
              "      <td>-11.30</td>\n",
              "    </tr>\n",
              "    <tr>\n",
              "      <th>2</th>\n",
              "      <td>1272</td>\n",
              "      <td>18.599560</td>\n",
              "      <td>-19.26</td>\n",
              "      <td>-13.95</td>\n",
              "    </tr>\n",
              "    <tr>\n",
              "      <th>3</th>\n",
              "      <td>1273</td>\n",
              "      <td>25.647871</td>\n",
              "      <td>37.90</td>\n",
              "      <td>-0.99</td>\n",
              "    </tr>\n",
              "    <tr>\n",
              "      <th>4</th>\n",
              "      <td>1274</td>\n",
              "      <td>23.418401</td>\n",
              "      <td>-8.69</td>\n",
              "      <td>-2.53</td>\n",
              "    </tr>\n",
              "  </tbody>\n",
              "</table>\n",
              "</div>"
            ],
            "text/plain": [
              "   Source  ...  10 year average\n",
              "0    1270  ...            -2.39\n",
              "1    1271  ...           -11.30\n",
              "2    1272  ...           -13.95\n",
              "3    1273  ...            -0.99\n",
              "4    1274  ...            -2.53\n",
              "\n",
              "[5 rows x 4 columns]"
            ]
          },
          "metadata": {
            "tags": []
          },
          "execution_count": 46
        }
      ]
    },
    {
      "cell_type": "code",
      "metadata": {
        "id": "3LKll7Rok6Uc",
        "colab_type": "code",
        "colab": {}
      },
      "source": [
        "#renaming columns to make the DF easier to work with\n",
        "wages_df = wages_df.rename(columns={'Source': 'Year', 'Using preferred full employment earnings and CPI series. Traditional measure based on daily wage rates in England before 1750, Index 1900=100':'Weekly Real Wages (indexed to 1900)', '10 year average': '10 year average wage growth rate', 'Growth':'Wage Growth'}, inplace=False)\n"
      ],
      "execution_count": 0,
      "outputs": []
    },
    {
      "cell_type": "code",
      "metadata": {
        "id": "9CQ5NbWJlVPV",
        "colab_type": "code",
        "colab": {}
      },
      "source": [
        "#merging original GDP dataframe with new wages dataframe on 'Year'\n",
        "final_df = pd.merge(new_GDP, wages_df, on='Year')\n"
      ],
      "execution_count": 0,
      "outputs": []
    },
    {
      "cell_type": "code",
      "metadata": {
        "id": "6-GfOvY_srA1",
        "colab_type": "code",
        "colab": {
          "base_uri": "https://localhost:8080/",
          "height": 566
        },
        "outputId": "765a4d8c-3306-4201-9854-cdbc92fa3d5d"
      },
      "source": [
        "#charts of Real GDP per capita and Weekly Real Wages\n",
        "final_df.plot(kind= 'line', x='Year', y='Real GDP per capita')\n",
        "final_df.plot(kind= 'line', x='Year', y='Weekly Real Wages (indexed to 1900)')\n"
      ],
      "execution_count": 51,
      "outputs": [
        {
          "output_type": "execute_result",
          "data": {
            "text/plain": [
              "<matplotlib.axes._subplots.AxesSubplot at 0x7f6e4403ecf8>"
            ]
          },
          "metadata": {
            "tags": []
          },
          "execution_count": 51
        },
        {
          "output_type": "display_data",
          "data": {
            "image/png": "[encoded data removed]",
            "text/plain": [
              "<Figure size 432x288 with 1 Axes>"
            ]
          },
          "metadata": {
            "tags": []
          }
        },
        {
          "output_type": "display_data",
          "data": {
            "image/png": "[encoded data removed]",
            "text/plain": [
              "<Figure size 432x288 with 1 Axes>"
            ]
          },
          "metadata": {
            "tags": []
          }
        }
      ]
    },
    {
      "cell_type": "markdown",
      "metadata": {
        "id": "YnBInZZNceWu",
        "colab_type": "text"
      },
      "source": [
        "To explore the idea of income inequality, let's create a new column that divides Real GDP per capita by Weekly Real Wages.\n",
        "An increasing ratio would indicate that the economy overall is growing faster than average wages and suggest that economic growth is not benefitting the population equally."
      ]
    },
    {
      "cell_type": "code",
      "metadata": {
        "id": "0eq3VhYCtw8E",
        "colab_type": "code",
        "colab": {}
      },
      "source": [
        "final_df['Ratio of GDP per capita to Wages'] = final_df['Real GDP per capita'] / final_df['Weekly Real Wages (indexed to 1900)']"
      ],
      "execution_count": 0,
      "outputs": []
    },
    {
      "cell_type": "code",
      "metadata": {
        "id": "O1_AGqQ7u5v0",
        "colab_type": "code",
        "colab": {
          "base_uri": "https://localhost:8080/",
          "height": 300
        },
        "outputId": "956d358c-18a0-48de-c028-dc33a664fe04"
      },
      "source": [
        "final_df.plot(kind= 'line', x='Year', y='Ratio of GDP per capita to Wages')\n"
      ],
      "execution_count": 53,
      "outputs": [
        {
          "output_type": "execute_result",
          "data": {
            "text/plain": [
              "<matplotlib.axes._subplots.AxesSubplot at 0x7f6e43fb5470>"
            ]
          },
          "metadata": {
            "tags": []
          },
          "execution_count": 53
        },
        {
          "output_type": "display_data",
          "data": {
            "image/png": "[encoded data removed]",
            "text/plain": [
              "<Figure size 432x288 with 1 Axes>"
            ]
          },
          "metadata": {
            "tags": []
          }
        }
      ]
    },
    {
      "cell_type": "code",
      "metadata": {
        "id": "KFCyseIo5peB",
        "colab_type": "code",
        "colab": {}
      },
      "source": [
        ""
      ],
      "execution_count": 0,
      "outputs": []
    },
    {
      "cell_type": "markdown",
      "metadata": {
        "id": "nlthhjlVlryX",
        "colab_type": "text"
      },
      "source": [
        "Interestingly, this metric rose consistently from the mid 1400's until the late 1800's before flattening out. \n",
        "\n",
        "\n",
        "Given that the vast majority of economic growth over this time period occured after 1800, it is encouraging to see this metric flatten out and even decline in the second half of the 1900's. This may suggest that economic growth is materializing in higher wages for the average worker rather than just accruing to a small portion of the population.\n",
        "\n",
        "\n",
        "\n"
      ]
    },
    {
      "cell_type": "code",
      "metadata": {
        "id": "PuWPLCREne3j",
        "colab_type": "code",
        "colab": {}
      },
      "source": [
        ""
      ],
      "execution_count": 0,
      "outputs": []
    }
  ]
}